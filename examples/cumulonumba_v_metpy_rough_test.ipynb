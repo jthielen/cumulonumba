{
 "cells": [
  {
   "cell_type": "markdown",
   "id": "af8e28f0-5c07-4e45-906a-96d3c2461199",
   "metadata": {},
   "source": [
    "# Speed Test: Cumulonumba (rough initial implementation) vs. MetPy\n",
    "\n",
    "*Very* preliminary results"
   ]
  },
  {
   "cell_type": "code",
   "execution_count": 1,
   "id": "d998fc38-2f95-4207-ab1e-37c67836055c",
   "metadata": {},
   "outputs": [],
   "source": [
    "import awkward as ak\n",
    "import numba\n",
    "import numpy as np\n",
    "import pandas as pd\n",
    "\n",
    "from cumulonumba.parcel import surface_based_cape_cin_1d\n",
    "import metpy.calc as mpcalc\n",
    "from metpy.testing import get_upper_air_data\n",
    "from metpy.units import units"
   ]
  },
  {
   "cell_type": "code",
   "execution_count": 2,
   "id": "4d8c039b-f68c-4b3c-94d0-98b945595125",
   "metadata": {},
   "outputs": [],
   "source": [
    "soundings = [\n",
    "    '2016-05-22T00Z_DDC',\n",
    "    '2013-01-20T12Z_OUN',\n",
    "    '1999-05-04T00Z_OUN',\n",
    "    '2002-11-11T00Z_BNA'\n",
    "]\n",
    "\n",
    "def load_upper_air_data(sounding):\n",
    "    # load\n",
    "    date, site = sounding.split('_')\n",
    "    data = get_upper_air_data(pd.Timestamp(date), site)\n",
    "    # convert units\n",
    "    conversions = {\n",
    "        'pressure': 'Pa',\n",
    "        'temperature': 'K',\n",
    "        'dewpoint': 'K'\n",
    "    }\n",
    "    new_data = {}\n",
    "    for field, unit in conversions.items():\n",
    "        new_data[field] = data[field].to(unit)\n",
    "    return new_data\n",
    "\n",
    "sounding_data = [load_upper_air_data(sounding) for sounding in soundings]"
   ]
  },
  {
   "cell_type": "code",
   "execution_count": 3,
   "id": "2d72f0f6-461d-4e0b-bc25-5d5f0bb80000",
   "metadata": {},
   "outputs": [
    {
     "name": "stdout",
     "output_type": "stream",
     "text": [
      "CAPE: 2492.0831641881646 joule / kilogram vs. 2492.08372431661\n",
      "CIN: -134.23655011021646 joule / kilogram vs. -134.0476296697777\n"
     ]
    }
   ],
   "source": [
    "# compare values from first sounding\n",
    "cape_metpy, cin_metpy = mpcalc.surface_based_cape_cin(\n",
    "    sounding_data[0]['pressure'],\n",
    "    sounding_data[0]['temperature'],\n",
    "    sounding_data[0]['dewpoint']\n",
    ")\n",
    "cape_cumulonumba, cin_cumulonumba = surface_based_cape_cin_1d(\n",
    "    sounding_data[0]['pressure'].m,\n",
    "    sounding_data[0]['temperature'].m,\n",
    "    sounding_data[0]['dewpoint'].m\n",
    ")\n",
    "print(f\"CAPE: {cape_metpy} vs. {cape_cumulonumba}\")\n",
    "print(f\"CIN: {cin_metpy} vs. {cin_cumulonumba}\")"
   ]
  },
  {
   "cell_type": "markdown",
   "id": "51c30ca9-aad8-4e37-8d26-220e4fc162d2",
   "metadata": {},
   "source": [
    "## Simple speed test"
   ]
  },
  {
   "cell_type": "code",
   "execution_count": 4,
   "id": "7c5d26be-efbc-4a85-8c38-9772908ba83b",
   "metadata": {},
   "outputs": [
    {
     "name": "stdout",
     "output_type": "stream",
     "text": [
      "CPU times: user 37.3 ms, sys: 87 µs, total: 37.3 ms\n",
      "Wall time: 33.6 ms\n"
     ]
    }
   ],
   "source": [
    "%%time\n",
    "cape_metpy = []\n",
    "for sounding in sounding_data:\n",
    "    cape, _ = mpcalc.surface_based_cape_cin(\n",
    "        sounding['pressure'],\n",
    "        sounding['temperature'],\n",
    "        sounding['dewpoint']\n",
    "    )\n",
    "    cape_metpy.append(cape)"
   ]
  },
  {
   "cell_type": "code",
   "execution_count": 5,
   "id": "54542031-1e06-4bd4-8823-7ae1e1673572",
   "metadata": {},
   "outputs": [
    {
     "name": "stdout",
     "output_type": "stream",
     "text": [
      "CPU times: user 214 µs, sys: 16 µs, total: 230 µs\n",
      "Wall time: 232 µs\n"
     ]
    }
   ],
   "source": [
    "%%time\n",
    "cape_cumulonumba = []\n",
    "for sounding in sounding_data:\n",
    "    cape, _ = surface_based_cape_cin_1d(\n",
    "        sounding['pressure'].m,\n",
    "        sounding['temperature'].m,\n",
    "        sounding['dewpoint'].m\n",
    "    )\n",
    "    cape_cumulonumba.append(cape)"
   ]
  },
  {
   "cell_type": "markdown",
   "id": "6093c5a5-b8be-4a08-9bf4-ae0a8f074686",
   "metadata": {},
   "source": [
    "## \"Fuzzy\" CAPE"
   ]
  },
  {
   "cell_type": "code",
   "execution_count": 6,
   "id": "37ac84ad-69d8-4980-887f-23ae4b3bff7b",
   "metadata": {},
   "outputs": [
    {
     "name": "stdout",
     "output_type": "stream",
     "text": [
      "CPU times: user 428 ms, sys: 0 ns, total: 428 ms\n",
      "Wall time: 427 ms\n"
     ]
    }
   ],
   "source": [
    "%%time\n",
    "@numba.njit\n",
    "def create_fuzzy_sounding(temperature, dewpoint):\n",
    "    noise = 0.1\n",
    "    # Add gaussian noise\n",
    "    temperature_new = temperature.copy()\n",
    "    dewpoint_new = dewpoint.copy()\n",
    "    for i in range(temperature.shape[0]):\n",
    "        temperature_new[i] += np.random.normal(0., noise)\n",
    "        dewpoint_new[i] += np.random.normal(0., noise)\n",
    "    \n",
    "    return temperature_new, dewpoint_new\n",
    "\n",
    "pressure_ak = ak.ArrayBuilder()\n",
    "temperature_ak = ak.ArrayBuilder()\n",
    "dewpoint_ak = ak.ArrayBuilder()\n",
    "pressure_q_list = []\n",
    "temperature_q_list = []\n",
    "dewpoint_q_list = []\n",
    "\n",
    "source_sounding = sounding_data[0]\n",
    "for i in range(2500):\n",
    "    if i:\n",
    "        new_t, new_td = create_fuzzy_sounding(\n",
    "            source_sounding['temperature'].m, \n",
    "            source_sounding['dewpoint'].m\n",
    "        )\n",
    "    else:\n",
    "        new_t = source_sounding['temperature'].m\n",
    "        new_td = source_sounding['dewpoint'].m\n",
    "    pressure_ak.append(source_sounding['pressure'].m)\n",
    "    pressure_q_list.append(source_sounding['pressure'])\n",
    "    temperature_ak.append(new_t)\n",
    "    temperature_q_list.append(units.Quantity(new_t, 'K'))\n",
    "    dewpoint_ak.append(new_td)\n",
    "    dewpoint_q_list.append(units.Quantity(new_td, 'K'))\n",
    "    \n",
    "pressure_ak = pressure_ak.snapshot()\n",
    "temperature_ak = temperature_ak.snapshot()\n",
    "dewpoint_ak = dewpoint_ak.snapshot()"
   ]
  },
  {
   "cell_type": "code",
   "execution_count": 7,
   "id": "ac1cb9b0-458a-44d6-8812-6c688d33598d",
   "metadata": {},
   "outputs": [
    {
     "data": {
      "text/plain": [
       "<Array [[9.23e+04, 9.03e+04, ... 7e+03]] type='2500 * var * float64'>"
      ]
     },
     "execution_count": 7,
     "metadata": {},
     "output_type": "execute_result"
    }
   ],
   "source": [
    "pressure_ak"
   ]
  },
  {
   "cell_type": "code",
   "execution_count": 8,
   "id": "f7f95b42-a0b8-4d16-b30a-6fbaed0e0ef2",
   "metadata": {},
   "outputs": [
    {
     "name": "stdout",
     "output_type": "stream",
     "text": [
      "CPU times: user 1.83 s, sys: 3.66 ms, total: 1.83 s\n",
      "Wall time: 1.83 s\n"
     ]
    }
   ],
   "source": [
    "%%time\n",
    "@numba.njit\n",
    "def surface_based_cape_cin_collection(pressure, temperature, dewpoint):\n",
    "    out = np.zeros((len(pressure), 2))\n",
    "    for i in range(len(pressure)):\n",
    "        try:\n",
    "            out[i] = surface_based_cape_cin_1d(\n",
    "                np.array(pressure[i]),\n",
    "                np.array(temperature[i]),\n",
    "                np.array(dewpoint[i])\n",
    "            )\n",
    "        except:\n",
    "            pass\n",
    "    return out\n",
    "\n",
    "cape = surface_based_cape_cin_collection(pressure_ak, temperature_ak, dewpoint_ak)[..., 0]"
   ]
  },
  {
   "cell_type": "code",
   "execution_count": 9,
   "id": "3a2bd988-0fc2-4522-b8b8-ae36adf05716",
   "metadata": {},
   "outputs": [
    {
     "name": "stdout",
     "output_type": "stream",
     "text": [
      "CPU times: user 90.4 ms, sys: 101 µs, total: 90.5 ms\n",
      "Wall time: 89.9 ms\n"
     ]
    }
   ],
   "source": [
    "%%time\n",
    "cape_cn = surface_based_cape_cin_collection(pressure_ak, temperature_ak, dewpoint_ak)[..., 0]"
   ]
  },
  {
   "cell_type": "code",
   "execution_count": 10,
   "id": "3eab7027-5495-4eb1-8785-b760e351ff16",
   "metadata": {},
   "outputs": [
    {
     "name": "stdout",
     "output_type": "stream",
     "text": [
      "CPU times: user 20.1 s, sys: 2.44 ms, total: 20.1 s\n",
      "Wall time: 20.1 s\n"
     ]
    }
   ],
   "source": [
    "%%time\n",
    "cape_mp = []\n",
    "for i in range(len(pressure_q_list)):\n",
    "    cape_mp.append(mpcalc.surface_based_cape_cin(pressure_q_list[i], temperature_q_list[i], dewpoint_q_list[i])[0].m)\n",
    "cape_mp = np.array(cape_mp)"
   ]
  },
  {
   "cell_type": "code",
   "execution_count": 11,
   "id": "8c8801b9-e357-4268-88c1-a165f9d3264d",
   "metadata": {},
   "outputs": [
    {
     "data": {
      "image/png": "[encoded data removed]",
      "text/plain": [
       "<Figure size 800x800 with 2 Axes>"
      ]
     },
     "metadata": {
      "image/png": {
       "height": 681,
       "width": 667
      }
     },
     "output_type": "display_data"
    }
   ],
   "source": [
    "import matplotlib.pyplot as plt\n",
    "%config InlineBackend.figure_format='retina'\n",
    "\n",
    "fig, (ax0, ax1) = plt.subplots(2, 1, figsize=(8, 8), sharex=True)\n",
    "ax0.hist(cape_cn, 100)\n",
    "ax0.set_title(\"Cumulonumba distribution\")\n",
    "ax1.hist(cape_mp, 100)\n",
    "ax1.set_title(\"MetPy distribtuion\")\n",
    "\n",
    "plt.show()"
   ]
  },
  {
   "cell_type": "code",
   "execution_count": null,
   "id": "e843082f-cbfa-491b-8a40-5d65b08331ab",
   "metadata": {},
   "outputs": [],
   "source": []
  }
 ],
 "metadata": {
  "kernelspec": {
   "display_name": "Python 3 (ipykernel)",
   "language": "python",
   "name": "python3"
  },
  "language_info": {
   "codemirror_mode": {
    "name": "ipython",
    "version": 3
   },
   "file_extension": ".py",
   "mimetype": "text/x-python",
   "name": "python",
   "nbconvert_exporter": "python",
   "pygments_lexer": "ipython3",
   "version": "3.10.6"
  }
 },
 "nbformat": 4,
 "nbformat_minor": 5
}
